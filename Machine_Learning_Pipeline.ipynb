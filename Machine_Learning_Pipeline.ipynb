{
 "metadata": {
  "language_info": {
   "codemirror_mode": {
    "name": "ipython",
    "version": 3
   },
   "file_extension": ".py",
   "mimetype": "text/x-python",
   "name": "python",
   "nbconvert_exporter": "python",
   "pygments_lexer": "ipython3",
   "version": "3.9.2-final"
  },
  "orig_nbformat": 2,
  "kernelspec": {
   "name": "python3",
   "display_name": "Python 3.9.2 64-bit",
   "metadata": {
    "interpreter": {
     "hash": "d0f1a46e1b8bb49f6fe66dfa14ba01e1c4ea6e7377c07a6040c9a42d856a631d"
    }
   }
  }
 },
 "nbformat": 4,
 "nbformat_minor": 2,
 "cells": [
  {
   "source": [
    "# Proyecto - Machine Learning Pipeline\n",
    "Andrea Cecilia Rivas Castañeda - 16001120"
   ],
   "cell_type": "markdown",
   "metadata": {}
  },
  {
   "cell_type": "code",
   "execution_count": 1,
   "metadata": {},
   "outputs": [],
   "source": [
    "import pandas as pd\n",
    "import numpy as np\n",
    "import matplotlib.pyplot as plt\n",
    "import seaborn as sns\n",
    "import random\n",
    "\n",
    "from sklearn.impute import KNNImputer, SimpleImputer\n",
    "\n",
    "import scipy.stats as stats\n",
    "\n",
    "from sklearn.model_selection import train_test_split\n",
    "from sklearn.preprocessing import MinMaxScaler, Binarizer\n",
    "from feature_engine.encoding import OneHotEncoder\n",
    "\n",
    "from sklearn.linear_model import LassoCV\n",
    "from sklearn.feature_selection import SequentialFeatureSelector\n",
    "from sklearn.linear_model import LogisticRegression\n",
    "from sklearn.metrics import accuracy_score, mean_squared_error\n",
    "from sklearn.pipeline import Pipeline\n",
    "\n",
    "from feature_engine.imputation import(\n",
    "    AddMissingIndicator,\n",
    "    MeanMedianImputer,\n",
    "    CategoricalImputer,\n",
    "    RandomSampleImputer\n",
    ")\n",
    "\n",
    "from feature_engine import transformation as vt\n",
    "from feature_engine.encoding import CountFrequencyEncoder, OneHotEncoder\n",
    "from feature_engine.selection import DropFeatures\n",
    "from feature_engine.wrappers import SklearnTransformerWrapper\n",
    "import my_preprocessors as mypp\n",
    "import joblib"
   ]
  },
  {
   "cell_type": "code",
   "execution_count": 2,
   "metadata": {},
   "outputs": [],
   "source": [
    "pd.pandas.set_option('display.max_columns', None)"
   ]
  },
  {
   "cell_type": "code",
   "execution_count": 3,
   "metadata": {},
   "outputs": [
    {
     "output_type": "execute_result",
     "data": {
      "text/plain": [
       "   id   age    bp     sg   al   su     rbc        pc         pcc          ba  \\\n",
       "0   0  48.0  80.0  1.020  1.0  0.0     NaN    normal  notpresent  notpresent   \n",
       "1   1   7.0  50.0  1.020  4.0  0.0     NaN    normal  notpresent  notpresent   \n",
       "2   2  62.0  80.0  1.010  2.0  3.0  normal    normal  notpresent  notpresent   \n",
       "3   3  48.0  70.0  1.005  4.0  0.0  normal  abnormal     present  notpresent   \n",
       "4   4  51.0  80.0  1.010  2.0  0.0  normal    normal  notpresent  notpresent   \n",
       "\n",
       "     bgr    bu   sc    sod  pot  hemo pcv    wc   rc  htn   dm cad appet   pe  \\\n",
       "0  121.0  36.0  1.2    NaN  NaN  15.4  44  7800  5.2  yes  yes  no  good   no   \n",
       "1    NaN  18.0  0.8    NaN  NaN  11.3  38  6000  NaN   no   no  no  good   no   \n",
       "2  423.0  53.0  1.8    NaN  NaN   9.6  31  7500  NaN   no  yes  no  poor   no   \n",
       "3  117.0  56.0  3.8  111.0  2.5  11.2  32  6700  3.9  yes   no  no  poor  yes   \n",
       "4  106.0  26.0  1.4    NaN  NaN  11.6  35  7300  4.6   no   no  no  good   no   \n",
       "\n",
       "   ane classification  \n",
       "0   no            ckd  \n",
       "1   no            ckd  \n",
       "2  yes            ckd  \n",
       "3  yes            ckd  \n",
       "4   no            ckd  "
      ],
      "text/html": "<div>\n<style scoped>\n    .dataframe tbody tr th:only-of-type {\n        vertical-align: middle;\n    }\n\n    .dataframe tbody tr th {\n        vertical-align: top;\n    }\n\n    .dataframe thead th {\n        text-align: right;\n    }\n</style>\n<table border=\"1\" class=\"dataframe\">\n  <thead>\n    <tr style=\"text-align: right;\">\n      <th></th>\n      <th>id</th>\n      <th>age</th>\n      <th>bp</th>\n      <th>sg</th>\n      <th>al</th>\n      <th>su</th>\n      <th>rbc</th>\n      <th>pc</th>\n      <th>pcc</th>\n      <th>ba</th>\n      <th>bgr</th>\n      <th>bu</th>\n      <th>sc</th>\n      <th>sod</th>\n      <th>pot</th>\n      <th>hemo</th>\n      <th>pcv</th>\n      <th>wc</th>\n      <th>rc</th>\n      <th>htn</th>\n      <th>dm</th>\n      <th>cad</th>\n      <th>appet</th>\n      <th>pe</th>\n      <th>ane</th>\n      <th>classification</th>\n    </tr>\n  </thead>\n  <tbody>\n    <tr>\n      <th>0</th>\n      <td>0</td>\n      <td>48.0</td>\n      <td>80.0</td>\n      <td>1.020</td>\n      <td>1.0</td>\n      <td>0.0</td>\n      <td>NaN</td>\n      <td>normal</td>\n      <td>notpresent</td>\n      <td>notpresent</td>\n      <td>121.0</td>\n      <td>36.0</td>\n      <td>1.2</td>\n      <td>NaN</td>\n      <td>NaN</td>\n      <td>15.4</td>\n      <td>44</td>\n      <td>7800</td>\n      <td>5.2</td>\n      <td>yes</td>\n      <td>yes</td>\n      <td>no</td>\n      <td>good</td>\n      <td>no</td>\n      <td>no</td>\n      <td>ckd</td>\n    </tr>\n    <tr>\n      <th>1</th>\n      <td>1</td>\n      <td>7.0</td>\n      <td>50.0</td>\n      <td>1.020</td>\n      <td>4.0</td>\n      <td>0.0</td>\n      <td>NaN</td>\n      <td>normal</td>\n      <td>notpresent</td>\n      <td>notpresent</td>\n      <td>NaN</td>\n      <td>18.0</td>\n      <td>0.8</td>\n      <td>NaN</td>\n      <td>NaN</td>\n      <td>11.3</td>\n      <td>38</td>\n      <td>6000</td>\n      <td>NaN</td>\n      <td>no</td>\n      <td>no</td>\n      <td>no</td>\n      <td>good</td>\n      <td>no</td>\n      <td>no</td>\n      <td>ckd</td>\n    </tr>\n    <tr>\n      <th>2</th>\n      <td>2</td>\n      <td>62.0</td>\n      <td>80.0</td>\n      <td>1.010</td>\n      <td>2.0</td>\n      <td>3.0</td>\n      <td>normal</td>\n      <td>normal</td>\n      <td>notpresent</td>\n      <td>notpresent</td>\n      <td>423.0</td>\n      <td>53.0</td>\n      <td>1.8</td>\n      <td>NaN</td>\n      <td>NaN</td>\n      <td>9.6</td>\n      <td>31</td>\n      <td>7500</td>\n      <td>NaN</td>\n      <td>no</td>\n      <td>yes</td>\n      <td>no</td>\n      <td>poor</td>\n      <td>no</td>\n      <td>yes</td>\n      <td>ckd</td>\n    </tr>\n    <tr>\n      <th>3</th>\n      <td>3</td>\n      <td>48.0</td>\n      <td>70.0</td>\n      <td>1.005</td>\n      <td>4.0</td>\n      <td>0.0</td>\n      <td>normal</td>\n      <td>abnormal</td>\n      <td>present</td>\n      <td>notpresent</td>\n      <td>117.0</td>\n      <td>56.0</td>\n      <td>3.8</td>\n      <td>111.0</td>\n      <td>2.5</td>\n      <td>11.2</td>\n      <td>32</td>\n      <td>6700</td>\n      <td>3.9</td>\n      <td>yes</td>\n      <td>no</td>\n      <td>no</td>\n      <td>poor</td>\n      <td>yes</td>\n      <td>yes</td>\n      <td>ckd</td>\n    </tr>\n    <tr>\n      <th>4</th>\n      <td>4</td>\n      <td>51.0</td>\n      <td>80.0</td>\n      <td>1.010</td>\n      <td>2.0</td>\n      <td>0.0</td>\n      <td>normal</td>\n      <td>normal</td>\n      <td>notpresent</td>\n      <td>notpresent</td>\n      <td>106.0</td>\n      <td>26.0</td>\n      <td>1.4</td>\n      <td>NaN</td>\n      <td>NaN</td>\n      <td>11.6</td>\n      <td>35</td>\n      <td>7300</td>\n      <td>4.6</td>\n      <td>no</td>\n      <td>no</td>\n      <td>no</td>\n      <td>good</td>\n      <td>no</td>\n      <td>no</td>\n      <td>ckd</td>\n    </tr>\n  </tbody>\n</table>\n</div>"
     },
     "metadata": {},
     "execution_count": 3
    }
   ],
   "source": [
    "data = pd.read_csv(\"kidney_disease.csv\")\n",
    "data.head()"
   ]
  },
  {
   "cell_type": "code",
   "execution_count": 4,
   "metadata": {},
   "outputs": [],
   "source": [
    "X_train, X_test, y_train, y_test = train_test_split(\n",
    "        data.drop(['classification'], axis=1),\n",
    "        data['classification'],\n",
    "        test_size=0.3,\n",
    "        random_state=2022)"
   ]
  },
  {
   "cell_type": "code",
   "execution_count": 5,
   "metadata": {},
   "outputs": [],
   "source": [
    "target_mapping = {'notckd':0, 'ckd': 1}\n",
    "y_train = y_train.map(target_mapping)\n",
    "y_test = y_test.map(target_mapping)"
   ]
  },
  {
   "cell_type": "code",
   "execution_count": 6,
   "metadata": {},
   "outputs": [],
   "source": [
    "# ------------------------------------- IMPUTACIONES -------------------------------------\n",
    "\n",
    "## Variables Numericas\n",
    "NUMERICAL_VARS_WITH_NA = ['sg', 'al', 'sc']\n",
    "\n",
    "NUMERICAL_VARS_WITH_NA_MEDIAN = ['sg']\n",
    "NUMERICAL_VARS_WITH_NA_MEAN = ['al', 'sc']\n",
    "\n",
    "## Variables Categóricas\n",
    "CATEGORICAL_VARS_WITH_NA_UNDEFINED = ['rbc', 'htn']\n",
    "\n",
    "# ------------------------------------- TRANSFORMACIONES -------------------------------------\n",
    "\n",
    "## Variables Numericas\n",
    "YJ_TRANSFORM = ['sc']\n",
    "BINARIZE_VARS = ['al']\n",
    "\n",
    "## Variables Categoricas\n",
    "NORMAL_MAPPING_VARS = ['rbc']\n",
    "YES_MAPPING_VARS = ['htn']\n",
    "\n",
    "## Diccionarios para mapping\n",
    "NORMAL_DIC_MAP = {'normal':1, 'undefined': 0, 'abnormal':-1}\n",
    "YES_DIC_MAP = {'yes':1, '\\tyes':1, ' yes':1, 'undefined': 0, 'no':-1, '\\tno':-1}\n",
    "\n",
    "# Selección de variables  ---------------------------------------------------------------------------------\n",
    "DROP_FEATURES = ['sg_na', 'al_na','sc_na', 'id', 'age', 'bp', 'su', 'pc', 'pcc', 'ba', 'bgr',\n",
    "       'bu', 'sod', 'pot', 'hemo', 'pcv', 'wc', 'rc', 'dm', 'cad', 'appet', 'pe', 'ane']"
   ]
  },
  {
   "source": [
    "## Pipeline"
   ],
   "cell_type": "markdown",
   "metadata": {}
  },
  {
   "cell_type": "code",
   "execution_count": 7,
   "metadata": {},
   "outputs": [],
   "source": [
    "kidney_disease_pipeline = Pipeline([\n",
    "# ------------------------------------- IMPUTACIONES -------------------------------------\n",
    "    # Variables Numericas\n",
    "    ## Indicador de variable faltante\n",
    "    ('missing_indicator', AddMissingIndicator(variables=NUMERICAL_VARS_WITH_NA)),\n",
    "    \n",
    "    ## Imputación de mediana\n",
    "    ('mean_imputation', MeanMedianImputer(\n",
    "        imputation_method='mean', variables=NUMERICAL_VARS_WITH_NA_MEAN)\n",
    "    ),\n",
    "\n",
    "    ## Imputación de media\n",
    "    ('median_imputation', MeanMedianImputer(\n",
    "        imputation_method='median', variables=NUMERICAL_VARS_WITH_NA_MEDIAN)\n",
    "    ),\n",
    "\n",
    "    # Variables Categóricas\n",
    "    ## Imputación por valor 'undefined'\n",
    "    ('missing_imputation', CategoricalImputer(imputation_method='missing',\n",
    "        fill_value='undefined',variables=CATEGORICAL_VARS_WITH_NA_UNDEFINED)\n",
    "    ),\n",
    "\n",
    "# ------------------------------------ TRANSFORMACIONES ------------------------------------\n",
    "    # Variables Numericas\n",
    "    ## Transformación YeoJohnson\n",
    "    ('yeoJ', vt.YeoJohnsonTransformer(variables=YJ_TRANSFORM)),\n",
    "\n",
    "    ## Binarizar variables sesgadas\n",
    "    ('binarizer', SklearnTransformerWrapper(\n",
    "        transformer=Binarizer(threshold=1), variables=BINARIZE_VARS)\n",
    "    ),\n",
    "\n",
    "    # Variables Categoricas\n",
    "    ('mapper_normal', mypp.Mapper(variables=NORMAL_MAPPING_VARS, mappings=NORMAL_DIC_MAP)),\n",
    "\n",
    "    ('mapper_yesNo', mypp.Mapper(variables=YES_MAPPING_VARS, mappings=YES_DIC_MAP)),\n",
    "\n",
    "# ---------------------------------- SELECCIÓN DE VARIABLES ----------------------------------\n",
    "    ('drop_features', DropFeatures(features_to_drop=DROP_FEATURES)),\n",
    "\n",
    "# ------------------------------------------ SCALER ------------------------------------------\n",
    "    ('scaler', MinMaxScaler()),\n",
    "\n",
    "# --------------------------------- ENTRENAMIENTO DEL MODELO ---------------------------------\n",
    "    ('Logistic_Reg', LogisticRegression())\n",
    "])"
   ]
  },
  {
   "cell_type": "code",
   "execution_count": 8,
   "metadata": {},
   "outputs": [
    {
     "output_type": "execute_result",
     "data": {
      "text/plain": [
       "Pipeline(steps=[('missing_indicator',\n",
       "                 AddMissingIndicator(variables=['sg', 'al', 'sc'])),\n",
       "                ('mean_imputation',\n",
       "                 MeanMedianImputer(imputation_method='mean',\n",
       "                                   variables=['al', 'sc'])),\n",
       "                ('median_imputation', MeanMedianImputer(variables=['sg'])),\n",
       "                ('missing_imputation',\n",
       "                 CategoricalImputer(fill_value='undefined',\n",
       "                                    variables=['rbc', 'htn'])),\n",
       "                ('yeoJ', YeoJohnsonTransformer(...\n",
       "                ('mapper_yesNo',\n",
       "                 Mapper(mappings={'\\tno': -1, '\\tyes': 1, ' yes': 1, 'no': -1,\n",
       "                                  'undefined': 0, 'yes': 1},\n",
       "                        variables=['htn'])),\n",
       "                ('drop_features',\n",
       "                 DropFeatures(features_to_drop=['sg_na', 'al_na', 'sc_na', 'id',\n",
       "                                                'age', 'bp', 'su', 'pc', 'pcc',\n",
       "                                                'ba', 'bgr', 'bu', 'sod', 'pot',\n",
       "                                                'hemo', 'pcv', 'wc', 'rc', 'dm',\n",
       "                                                'cad', 'appet', 'pe', 'ane'])),\n",
       "                ('scaler', MinMaxScaler()),\n",
       "                ('Logistic_Reg', LogisticRegression())])"
      ]
     },
     "metadata": {},
     "execution_count": 8
    }
   ],
   "source": [
    "kidney_disease_pipeline.fit(X_train, y_train)"
   ]
  },
  {
   "cell_type": "code",
   "execution_count": 9,
   "metadata": {},
   "outputs": [],
   "source": [
    "preds = kidney_disease_pipeline.predict(X_test)"
   ]
  },
  {
   "cell_type": "code",
   "execution_count": 10,
   "metadata": {},
   "outputs": [
    {
     "output_type": "execute_result",
     "data": {
      "text/plain": [
       "0.9583333333333334"
      ]
     },
     "metadata": {},
     "execution_count": 10
    }
   ],
   "source": [
    "accuracy_score(y_test, preds)"
   ]
  },
  {
   "cell_type": "code",
   "execution_count": 11,
   "metadata": {},
   "outputs": [
    {
     "output_type": "execute_result",
     "data": {
      "text/plain": [
       "['kidney_disease_pipeline.pkl']"
      ]
     },
     "metadata": {},
     "execution_count": 11
    }
   ],
   "source": [
    "joblib.dump(kidney_disease_pipeline, 'kidney_disease_pipeline.pkl')"
   ]
  }
 ]
}